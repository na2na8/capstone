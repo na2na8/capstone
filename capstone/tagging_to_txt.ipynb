{
 "cells": [
  {
   "cell_type": "code",
   "execution_count": 5,
   "metadata": {},
   "outputs": [],
   "source": [
    "fw = open('C:/Users/na2na/capstone/word_tagging.txt', 'w')\n",
    "fw_no_num = open('C:/Users/na2na/capstone/word_tagging_no_num.txt', 'w')\n",
    "fs = open('C:/Users/na2na/capstone/syllable_tagging.txt', 'w')\n",
    "fs_no_num = open('C:/Users/na2na/capstone/syllable_tagging_no_num.txt', 'w')\n",
    "\n",
    "fw.close()\n",
    "fw_no_num.close()\n",
    "fs.close()\n",
    "fs_no_num.close()"
   ]
  },
  {
   "cell_type": "code",
   "execution_count": 6,
   "metadata": {},
   "outputs": [],
   "source": [
    "import csv\n",
    "import pandas as pd\n",
    "import numpy as np\n",
    "\n",
    "# 시험삼아 학습시켜 보는데, 앞에 index가 있으면 학습이 잘 안 되는 것을 알게 되어 index있는 txt와 없는 txt를 같이 만들어 줌.\n",
    "\n",
    "\n",
    "def str_to_list(words):\n",
    "    words=words.replace('\\'','')\n",
    "    words=words.replace('[','')\n",
    "    words=words.replace(']','')\n",
    "    words=words.split(',')\n",
    "    for i in range(len(words)) :\n",
    "        words[i] = words[i].strip()\n",
    "        if len(words[i]) == 0 :\n",
    "            words[i] = ' '\n",
    "    return words\n",
    "\n",
    "# 문장 어절단위 태깅을 txt 파일로 저장\n",
    "def word_tagging_to_txt(words, words_tagging) :\n",
    "    f = open('C:/Users/na2na/capstone/word_tagging.txt', 'a')\n",
    "    f_no_num = open('C:/Users/na2na/capstone/word_tagging_no_num.txt', 'a')\n",
    "    for idx in range(1, len(words)+1) :\n",
    "        data = \"%d\\t%s\\t%s\\n\" % (idx, words[idx-1], words_tagging[idx-1])\n",
    "        data_no_num = \"%s\\t%s\\n\" % (words[idx-1], words_tagging[idx-1])\n",
    "        f.write(data)\n",
    "        f_no_num.write(data_no_num)\n",
    "    data= \"\\n\"\n",
    "    f.write(data)\n",
    "    f_no_num.write(data)\n",
    "    f.close()\n",
    "    f_no_num.close()\n",
    "\n",
    "# 문장 음절단위 태깅을 txt 파일로 저장    \n",
    "def syllable_tagging_to_txt(syl, syl_tagging) :\n",
    "    f = open('C:/Users/na2na/capstone/syllable_tagging.txt', 'a')\n",
    "    f_no_num = open('C:/Users/na2na/capstone/syllable_tagging_no_num.txt', 'a')\n",
    "    for idx in range(1, len(syl)+1) :\n",
    "        data = \"%d\\t%s\\t%s\\n\" % (idx, syl[idx-1], syl_tagging[idx-1])\n",
    "        data_no_num = \"%s\\t%s\\n\" % (syl[idx-1], syl_tagging[idx-1])\n",
    "        f.write(data)\n",
    "        f_no_num.write(data_no_num)\n",
    "    data = '\\n'\n",
    "    f.write(data)\n",
    "    f_no_num.write(data)\n",
    "    f.close()\n",
    "    f_no_num.close()\n",
    "\n",
    "    \n",
    "data = pd.read_csv('C:/Users/na2na/capstone/sentence_tag_real_final.csv')\n",
    "length = data.shape[0]\n",
    "\n",
    "for i in range(0, length) :\n",
    "    words = str_to_list(data.loc[i, 'words'])\n",
    "    words_tagging = str_to_list(data.loc[i, 'words_tag'])\n",
    "    word_tagging_to_txt(words, words_tagging)\n",
    "    syllables = str_to_list(data.loc[i, 'syllables'])\n",
    "    syllables_tagging = str_to_list(data.loc[i, 'syllables_tag'])\n",
    "    syllable_tagging_to_txt(syllables, syllables_tagging)"
   ]
  },
  {
   "cell_type": "code",
   "execution_count": null,
   "metadata": {},
   "outputs": [],
   "source": []
  }
 ],
 "metadata": {
  "kernelspec": {
   "display_name": "Python 3",
   "language": "python",
   "name": "python3"
  },
  "language_info": {
   "codemirror_mode": {
    "name": "ipython",
    "version": 3
   },
   "file_extension": ".py",
   "mimetype": "text/x-python",
   "name": "python",
   "nbconvert_exporter": "python",
   "pygments_lexer": "ipython3",
   "version": "3.6.8"
  }
 },
 "nbformat": 4,
 "nbformat_minor": 2
}
